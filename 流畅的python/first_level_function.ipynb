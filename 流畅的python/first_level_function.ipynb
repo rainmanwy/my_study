{
 "cells": [
  {
   "cell_type": "code",
   "execution_count": 3,
   "metadata": {},
   "outputs": [
    {
     "name": "stdout",
     "output_type": "stream",
     "text": [
      "call <__main__.MyClass object at 0x7fa9c06b33c8> with 1 and (2,)\n"
     ]
    }
   ],
   "source": [
    "class MyClass(object):\n",
    "    \n",
    "    def __call__(self, a, *args):\n",
    "        print('call {0} with {1} and {2}'.format(self, a, args))\n",
    "        \n",
    "myClass = MyClass()\n",
    "myClass(1, 2)"
   ]
  },
  {
   "cell_type": "code",
   "execution_count": 16,
   "metadata": {},
   "outputs": [
    {
     "name": "stdout",
     "output_type": "stream",
     "text": [
      "<code object func at 0x7fa9c066ea50, file \"<ipython-input-16-fa28561edc70>\", line 1>\n",
      "['__class__', '__delattr__', '__dir__', '__doc__', '__eq__', '__format__', '__ge__', '__getattribute__', '__gt__', '__hash__', '__init__', '__init_subclass__', '__le__', '__lt__', '__ne__', '__new__', '__reduce__', '__reduce_ex__', '__repr__', '__setattr__', '__sizeof__', '__str__', '__subclasshook__', 'co_argcount', 'co_cellvars', 'co_code', 'co_consts', 'co_filename', 'co_firstlineno', 'co_flags', 'co_freevars', 'co_kwonlyargcount', 'co_lnotab', 'co_name', 'co_names', 'co_nlocals', 'co_stacksize', 'co_varnames']\n",
      "1\n",
      "('a', 'args', 'kwargs', 'kk')\n",
      "func\n"
     ]
    }
   ],
   "source": [
    "def func(a, *args, **kwargs):\n",
    "    kk = 1\n",
    "\n",
    "print(func.__code__)\n",
    "print(dir(func.__code__))\n",
    "print(func.__code__.co_argcount)\n",
    "print(func.__code__.co_varnames)  #保护参数，和函数内局部变量\n",
    "print(func.__code__.co_name)"
   ]
  },
  {
   "cell_type": "code",
   "execution_count": 30,
   "metadata": {},
   "outputs": [
    {
     "name": "stdout",
     "output_type": "stream",
     "text": [
      "POSITIONAL_OR_KEYWORD    : a=<class 'inspect._empty'>\n",
      "VAR_POSITIONAL           : args=<class 'inspect._empty'>\n",
      "VAR_KEYWORD              : kwargs=<class 'inspect._empty'>\n"
     ]
    }
   ],
   "source": [
    "import inspect\n",
    "sig = inspect.signature(func)\n",
    "for name, param in sig.parameters.items():\n",
    "    print('{0!s:<25}: {1}={2}'.format(param.kind, name, param.default))"
   ]
  },
  {
   "cell_type": "code",
   "execution_count": 35,
   "metadata": {},
   "outputs": [
    {
     "name": "stdout",
     "output_type": "stream",
     "text": [
      "hi 12\n",
      "1 12\n",
      "hi 10\n",
      "{'s': 'str', 'i': 'int >10'}\n"
     ]
    }
   ],
   "source": [
    "def clip(s:'str', i:'int >10'):  #参数注解，并不做检查，只是保存到__annotations__中\n",
    "    print(s, i)\n",
    "clip('hi', 12)\n",
    "clip(1, 12)\n",
    "clip('hi', 10)\n",
    "print(clip.__annotations__)"
   ]
  },
  {
   "cell_type": "code",
   "execution_count": 36,
   "metadata": {},
   "outputs": [
    {
     "name": "stdout",
     "output_type": "stream",
     "text": [
      "SS\n"
     ]
    }
   ],
   "source": [
    "from operator import methodcaller\n",
    "up = methodcaller('upper')\n",
    "print(up('ss'))"
   ]
  },
  {
   "cell_type": "code",
   "execution_count": null,
   "metadata": {},
   "outputs": [],
   "source": []
  }
 ],
 "metadata": {
  "kernelspec": {
   "display_name": "Python 3",
   "language": "python",
   "name": "python3"
  },
  "language_info": {
   "codemirror_mode": {
    "name": "ipython",
    "version": 3
   },
   "file_extension": ".py",
   "mimetype": "text/x-python",
   "name": "python",
   "nbconvert_exporter": "python",
   "pygments_lexer": "ipython3",
   "version": "3.6.3"
  }
 },
 "nbformat": 4,
 "nbformat_minor": 2
}
