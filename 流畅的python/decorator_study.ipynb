{
 "cells": [
  {
   "cell_type": "code",
   "execution_count": 2,
   "metadata": {},
   "outputs": [
    {
     "name": "stdout",
     "output_type": "stream",
     "text": [
      "6\n"
     ]
    }
   ],
   "source": [
    "\"\"\"元编程： 编写能改变语言语法特性或者运行时特性的程序\"\"\"\n",
    "b = 6\n",
    "def func():\n",
    "    print(b) # 失败， 编译函数是，认为“b“是局部变量\n",
    "    b = 10\n",
    "func()"
   ]
  },
  {
   "cell_type": "code",
   "execution_count": 15,
   "metadata": {},
   "outputs": [
    {
     "name": "stdout",
     "output_type": "stream",
     "text": [
      "10.0\n",
      "10.5\n",
      "('value',)\n",
      "('series',)\n",
      "['__class__', '__delattr__', '__dir__', '__doc__', '__eq__', '__format__', '__ge__', '__getattribute__', '__gt__', '__hash__', '__init__', '__init_subclass__', '__le__', '__lt__', '__ne__', '__new__', '__reduce__', '__reduce_ex__', '__repr__', '__setattr__', '__sizeof__', '__str__', '__subclasshook__', 'cell_contents']\n",
      "[10, 11]\n"
     ]
    }
   ],
   "source": [
    "\"\"\"\n",
    "闭包: 闭包指延伸了作用域的函数,其中包含函数定义体中引用、但是不在定义体中定义\n",
    "的非全局变量。函数是不是匿名的没有关系,关键是它能访问定义体之外定义的非全局变\n",
    "量。\n",
    "\n",
    "自由变量(free variable): 下例中series是自由变量\n",
    "\n",
    "average的闭包延伸到函数作用域之外。\n",
    "\"\"\"\n",
    "def make_average():\n",
    "    series = []\n",
    "    def average(value):\n",
    "        series.append(value)\n",
    "        return sum(series)/len(series)\n",
    "    return average\n",
    "\n",
    "avg = make_average()\n",
    "print(avg(10))\n",
    "print(avg(11))\n",
    "print(avg.__code__.co_varnames)\n",
    "print(avg.__code__.co_freevars)\n",
    "print(dir(avg.__closure__[0]))\n",
    "print(avg.__closure__[0].cell_contents)"
   ]
  },
  {
   "cell_type": "code",
   "execution_count": 16,
   "metadata": {},
   "outputs": [
    {
     "name": "stdout",
     "output_type": "stream",
     "text": [
      "10.0\n",
      "10.5\n",
      "('value',)\n",
      "('count', 'total')\n",
      "['__class__', '__delattr__', '__dir__', '__doc__', '__eq__', '__format__', '__ge__', '__getattribute__', '__gt__', '__hash__', '__init__', '__init_subclass__', '__le__', '__lt__', '__ne__', '__new__', '__reduce__', '__reduce_ex__', '__repr__', '__setattr__', '__sizeof__', '__str__', '__subclasshook__', 'cell_contents']\n",
      "2\n"
     ]
    }
   ],
   "source": [
    "\"\"\"\n",
    "nonlocal: 把变量标记为自由变量,即使在函数中为变量赋予新值了,也会变成自由变量。\n",
    "\"\"\"\n",
    "def make_average():\n",
    "    total = 0\n",
    "    count = 0;\n",
    "    def average(value):\n",
    "        nonlocal total, count   # 如果不用nonlocal， 会报错，认为total是局部变量\n",
    "        total += value\n",
    "        count += 1\n",
    "        return total/count\n",
    "    return average\n",
    "\n",
    "avg = make_average()\n",
    "print(avg(10))\n",
    "print(avg(11))\n",
    "print(avg.__code__.co_varnames)\n",
    "print(avg.__code__.co_freevars)\n",
    "print(dir(avg.__closure__[0]))\n",
    "print(avg.__closure__[0].cell_contents)"
   ]
  },
  {
   "cell_type": "code",
   "execution_count": null,
   "metadata": {},
   "outputs": [],
   "source": [
    "\"\"\"\n",
    "functional.lru_cache: 现了备忘(memoization)功能。这是\n",
    "一项优化技术,它把耗时的函数的结果保存起来,避免传入相同的参数时重复计算。\n",
    "\"\"\"\n",
    "import functools\n",
    "import time\n",
    "\n",
    "@functools.lru_cache()\n",
    "def fibonacci(n):\n",
    "    if n < 2:\n",
    "        return n\n",
    "    return fibonacci(n-2) + fibonacci(n-1)\n",
    "\n",
    "def fibonacci_nocache(n):\n",
    "    if n < 2:\n",
    "        return n\n",
    "    return fibonacci_nocache(n-2) + fibonacci_nocache(n-1)\n",
    "\n",
    "beginTime = time.time()\n",
    "fibonacci(100)\n",
    "endTime = time.time()\n",
    "print(endTime-beginTime)\n",
    "beginTime = time.time()\n",
    "fibonacci_nocache(100)\n",
    "endTime = time.time()\n",
    "print(endTime-beginTime)\n"
   ]
  },
  {
   "cell_type": "code",
   "execution_count": null,
   "metadata": {},
   "outputs": [],
   "source": []
  }
 ],
 "metadata": {
  "kernelspec": {
   "display_name": "Python 3",
   "language": "python",
   "name": "python3"
  },
  "language_info": {
   "codemirror_mode": {
    "name": "ipython",
    "version": 3
   },
   "file_extension": ".py",
   "mimetype": "text/x-python",
   "name": "python",
   "nbconvert_exporter": "python",
   "pygments_lexer": "ipython3",
   "version": "3.6.3"
  }
 },
 "nbformat": 4,
 "nbformat_minor": 2
}
