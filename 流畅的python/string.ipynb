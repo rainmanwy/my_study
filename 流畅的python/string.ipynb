{
 "cells": [
  {
   "cell_type": "code",
   "execution_count": 1,
   "metadata": {},
   "outputs": [
    {
     "name": "stdout",
     "output_type": "stream",
     "text": [
      "2\n"
     ]
    }
   ],
   "source": [
    "s = '你好'\n",
    "print(len(s))"
   ]
  },
  {
   "cell_type": "code",
   "execution_count": 4,
   "metadata": {},
   "outputs": [
    {
     "name": "stdout",
     "output_type": "stream",
     "text": [
      "b'\\xe4\\xbd\\xa0\\xe5\\xa5\\xbd'\n",
      "6\n"
     ]
    }
   ],
   "source": [
    "b = s.encode('utf-8')  # 编码，是从码位转成字节序列\n",
    "print(b)\n",
    "print(len(b))"
   ]
  },
  {
   "cell_type": "code",
   "execution_count": 5,
   "metadata": {},
   "outputs": [
    {
     "name": "stdout",
     "output_type": "stream",
     "text": [
      "b'\\xff\\xfe`O}Y'\n",
      "6\n"
     ]
    }
   ],
   "source": [
    "b16 = s.encode('utf-16')\n",
    "print(b16)\n",
    "print(len(b16))"
   ]
  },
  {
   "cell_type": "code",
   "execution_count": 6,
   "metadata": {},
   "outputs": [
    {
     "name": "stdout",
     "output_type": "stream",
     "text": [
      "你好\n"
     ]
    }
   ],
   "source": [
    "print(b.decode('utf-8')) #解码，是从字节序列转成码位"
   ]
  },
  {
   "cell_type": "code",
   "execution_count": 13,
   "metadata": {},
   "outputs": [
    {
     "name": "stdout",
     "output_type": "stream",
     "text": [
      "b'ab\\n\\xe4\\xbd\\xa0\\xe5\\xa5\\xbd'\n",
      "97\n",
      "bytearray(b'ab\\n\\xe4\\xbd\\xa0\\xe5\\xa5\\xbd')\n",
      "bytearray(b'a')\n"
     ]
    }
   ],
   "source": [
    "# bytes 和bytearray\n",
    "b = bytes('ab\\n你好', 'utf8')\n",
    "print(b) # 可打印的ASCII码直接显示，制表符等会转义显示，其余以\\xHH16进制方式显示\n",
    "print(b[0]) # bytes以0-255的整数存储\n",
    "ba = bytearray(b)\n",
    "print(ba)\n",
    "print(ba[:1])"
   ]
  },
  {
   "cell_type": "code",
   "execution_count": 1,
   "metadata": {},
   "outputs": [
    {
     "data": {
      "text/plain": [
       "b'abc'"
      ]
     },
     "execution_count": 1,
     "metadata": {},
     "output_type": "execute_result"
    }
   ],
   "source": [
    "bytes.fromhex('616263') #接受16进制字符串"
   ]
  },
  {
   "cell_type": "code",
   "execution_count": 8,
   "metadata": {},
   "outputs": [
    {
     "name": "stdout",
     "output_type": "stream",
     "text": [
      "Montréal\n",
      "Montr�al\n"
     ]
    }
   ],
   "source": [
    "o = b'Montr\\xe9al'\n",
    "print(o.decode('cp1252'))\n",
    "# print(o.decode('utf8')) # UnicodeDecodeError\n",
    "print(o.decode('utf8', errors='replace'))"
   ]
  },
  {
   "cell_type": "code",
   "execution_count": null,
   "metadata": {},
   "outputs": [],
   "source": []
  }
 ],
 "metadata": {
  "kernelspec": {
   "display_name": "Python 3",
   "language": "python",
   "name": "python3"
  },
  "language_info": {
   "codemirror_mode": {
    "name": "ipython",
    "version": 3
   },
   "file_extension": ".py",
   "mimetype": "text/x-python",
   "name": "python",
   "nbconvert_exporter": "python",
   "pygments_lexer": "ipython3",
   "version": "3.6.3"
  }
 },
 "nbformat": 4,
 "nbformat_minor": 2
}
