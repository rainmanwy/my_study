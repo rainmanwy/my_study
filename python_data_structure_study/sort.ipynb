{
 "cells": [
  {
   "cell_type": "markdown",
   "metadata": {},
   "source": [
    "# 交换排序\n",
    "## 冒泡算法\n",
    "\n",
    "![图片](https://www.runoob.com/wp-content/uploads/2019/03/bubbleSort.gif \"冒泡算法动图\")"
   ]
  },
  {
   "cell_type": "code",
   "execution_count": 8,
   "metadata": {},
   "outputs": [
    {
     "name": "stdout",
     "output_type": "stream",
     "text": [
      "[0, 1, 20, 100]\n",
      "[]\n"
     ]
    }
   ],
   "source": [
    "def bubble_sort(inputList):\n",
    "    length = len(inputList)\n",
    "    \n",
    "    for i in range(0, length - 1):\n",
    "        for j in range(0, length - i -1):\n",
    "            if inputList[j] > inputList[j+1]:\n",
    "                inputList[j], inputList[j+1] = inputList[j+1], inputList[j]\n",
    "    return inputList\n",
    "\n",
    "print(bubble_sort([20, 0, 1, 100]))\n",
    "print(bubble_sort([]))"
   ]
  },
  {
   "cell_type": "markdown",
   "metadata": {},
   "source": [
    "## 快速排序 （Quick Sort）\n",
    "\n",
    "快速排序的基本思想：（这个思想必须得理解一下，计算机思维）通过一趟排序将待排记录分隔成独立的两部分，其中一部分记录的关键字均比另一部分的关键字小，则可分别对这两部分记录继续进行排序，以达到整个序列有序。\n",
    "\n",
    "快速排序使用分治法来把一个串（list）分为两个子串（sub-lists）。具体算法描述如下\n",
    "\n",
    "从数列中挑出一个元素，称为 “基准”（pivot）；\n",
    "重新排序数列，所有元素比基准值小的摆放在基准前面，所有元素比基准值大的摆在基准的后面（相同的数可以到任一边）。在这个分区退出之后，该基准就处于数列的中间位置。这个称为分区（partition）操作；\n",
    "递归地（recursive）把小于基准值元素的子数列和大于基准值元素的子数列排序。\n",
    "\n",
    "![图片](https://img-blog.csdnimg.cn/20200806092526691.gif \"快速排序动图\")\n",
    "\n",
    "\n",
    "![图片](https://pic2.zhimg.com/80/v2-f1a89ca3dbddc180d7a370a6ffae6a45_720w.jpg \"1\")\n",
    "\n",
    "![图片](https://pic3.zhimg.com/80/v2-6efd400ec9117848bd6bbd52518f4bba_720w.jpg \"2\")\n",
    "\n",
    "![图片](https://pic4.zhimg.com/80/v2-990a82e473e5e6b8d0210c0a8f059c2b_720w.jpg \"3\")\n",
    "\n",
    "![图片](https://pic4.zhimg.com/80/v2-09016a6f71cf91c87fc68174c9ec68af_720w.jpg \"4\")\n",
    "\n",
    "![图片](https://pic1.zhimg.com/80/v2-7ac496fc194edb02c6c1567945f3f47c_720w.jpg \"5\")\n",
    "\n",
    "![图片](https://pic3.zhimg.com/80/v2-f958d248d9761793083fe0d7a5050116_720w.jpg \"6\")\n",
    "\n",
    "![图片](https://pic4.zhimg.com/80/v2-c44a5e3aab4763b988514103cf70e933_720w.jpg \"7\")\n",
    "\n",
    "![图片](https://pic1.zhimg.com/80/v2-7d1d8d3b859d46cab2d5ed33287fc034_720w.jpg \"8\")\n",
    "\n",
    "![图片](https://pic1.zhimg.com/80/v2-7d1d8d3b859d46cab2d5ed33287fc034_720w.jpg \"9\")"
   ]
  },
  {
   "cell_type": "code",
   "execution_count": 23,
   "metadata": {},
   "outputs": [
    {
     "name": "stdout",
     "output_type": "stream",
     "text": [
      "[5, 5, 10, 15, 30, 30, 100, 200]\n",
      "[10, 100, 200, 300, 330, 500]\n"
     ]
    }
   ],
   "source": [
    "def quick_sort(inputList):\n",
    "    if not inputList or len(inputList) == 1:\n",
    "        return\n",
    "    _sort(inputList, 0, len(inputList) - 1)\n",
    "    \n",
    "def _sort(inputList, left, right):\n",
    "    if left < right:\n",
    "        p = _partition(inputList, left, right)\n",
    "        _sort(inputList, left, p-1)\n",
    "        _sort(inputList, p+1, right)\n",
    "\n",
    "def _partition(inputList, left, right):\n",
    "    p = left\n",
    "    while right > left:\n",
    "        if inputList[right] > inputList[p]:\n",
    "            right -= 1\n",
    "            continue\n",
    "        left += 1\n",
    "        if inputList[left] < inputList[p]:\n",
    "            continue\n",
    "        inputList[left], inputList[right] = inputList[right], inputList[left]\n",
    "    \n",
    "    if inputList[left] <= inputList[p]:\n",
    "        inputList[left], inputList[p] = inputList[p], inputList[left]\n",
    "        p = left\n",
    "    return p\n",
    "    \n",
    "    \n",
    "l = [5, 10, 30, 15, 200, 100, 30, 5]\n",
    "quick_sort(l)\n",
    "print(l) \n",
    "l= [300, 10, 330, 500, 200, 100]\n",
    "quick_sort(l)\n",
    "print(l) "
   ]
  },
  {
   "cell_type": "markdown",
   "metadata": {},
   "source": [
    "# 插入排序\n",
    "## 简单插入排序 （Insertion Sort）\n",
    "\n",
    "插入排序（Insertion-Sort）的算法描述是一种简单直观的排序算法。它的工作原理是通过构建有序序列，对于未排序数据，在已排序序列中从后向前扫描，找到相应位置并插入。\n",
    "\n",
    "\n",
    "一般来说，插入排序都采用in-place在数组上实现。具体算法描述如下：\n",
    "\n",
    "* 从第一个元素开始，该元素可以认为已经被排序；\n",
    "* 取出下一个元素，在已经排序的元素序列中从后向前扫描；\n",
    "* 如果该元素（已排序）大于新元素，将该元素移到下一位置；\n",
    "* 重复步骤3，直到找到已排序的元素小于或者等于新元素的位置；\n",
    "* 将新元素插入到该位置后；\n",
    "* 重复步骤2~5。\n",
    "\n",
    "![图片](https://pic3.zhimg.com/v2-91b76e8e4dab9b0cad9a017d7dd431e2_b.webp \"插入排序\")\n"
   ]
  },
  {
   "cell_type": "code",
   "execution_count": 26,
   "metadata": {},
   "outputs": [
    {
     "name": "stdout",
     "output_type": "stream",
     "text": [
      "[5, 5, 10, 15, 30, 30, 100, 200]\n",
      "[10, 100, 200, 300, 330, 500]\n"
     ]
    }
   ],
   "source": [
    "def insert_sort(inputList):\n",
    "    if not inputList or len(inputList) <= 1:\n",
    "        return\n",
    "    \n",
    "    for targetIndex in range(1, len(inputList)):\n",
    "        index = targetIndex - 1\n",
    "        while index >= 0:\n",
    "            if inputList[index] > inputList[index+1]:\n",
    "                inputList[index], inputList[index+1] = inputList[index+1], inputList[index]\n",
    "                index -= 1\n",
    "            else:\n",
    "                break\n",
    "\n",
    "l = [5, 10, 30, 15, 200, 100, 30, 5]\n",
    "insert_sort(l)\n",
    "print(l) \n",
    "l= [300, 10, 330, 500, 200, 100]\n",
    "insert_sort(l)\n",
    "print(l) \n"
   ]
  },
  {
   "cell_type": "markdown",
   "metadata": {},
   "source": [
    "# 选择排序\n",
    "## 简单选择排序\n",
    "它的工作原理：首先在未排序序列中找到最小（大）元素，存放到排序序列的起始位置，然后，再从剩余未排序元素中继续寻找最小（大）元素，然后放到已排序序列的末尾。以此类推，直到所有元素均排序完毕。即 选择数组中最小的数字放到index=0的位置，数组会越来越小，数组为0时，排序完毕。\n",
    "\n",
    "![图片](https://pic4.zhimg.com/80/v2-22ee8f3a6cd78d4f2cfdfb1780179e73_720w.jpg \"简单选择排序1\")\n",
    "\n",
    "![图片](https://pic1.zhimg.com/v2-1c7e20f306ddc02eb4e3a50fa7817ff4_b.webp \"简单选择排序2\")"
   ]
  },
  {
   "cell_type": "code",
   "execution_count": 27,
   "metadata": {},
   "outputs": [
    {
     "name": "stdout",
     "output_type": "stream",
     "text": [
      "[5, 5, 10, 15, 30, 30, 100, 200]\n",
      "[10, 100, 200, 300, 330, 500]\n"
     ]
    }
   ],
   "source": [
    "def select_sort(inputList):\n",
    "    if not inputList or len(inputList) <= 1:\n",
    "        return\n",
    "    \n",
    "    index = 0\n",
    "    length = len(inputList)\n",
    "    while index < length:\n",
    "        minIndex = index\n",
    "        minValue = inputList[minIndex]\n",
    "        for i in range(index, length):\n",
    "            if inputList[i] < minValue:\n",
    "                minIndex = i\n",
    "                minValue = inputList[i]\n",
    "        inputList[index], inputList[minIndex] = inputList[minIndex], inputList[index]\n",
    "        index += 1\n",
    "\n",
    "\n",
    "l = [5, 10, 30, 15, 200, 100, 30, 5]\n",
    "select_sort(l)\n",
    "print(l) \n",
    "l= [300, 10, 330, 500, 200, 100]\n",
    "select_sort(l)\n",
    "print(l) "
   ]
  },
  {
   "cell_type": "markdown",
   "metadata": {},
   "source": [
    "# 珠排序(bead sort)\n",
    "这是一种自然排序算法，类似于算盘纵向平行柱上面的珠子，纵向平行柱的数量代表待排序数字的最大值，每根柱子上面的柱子数量代表待排序数个数（如待排序数组L = [1, 5, 3, 2, 7, 4]，则需要纵向平行柱m=7，每根柱子珠子数量n=6），然后珠子会在重力作用下自由降落。\n",
    "\n",
    "![图片](https://iq.opengenus.org/content/images/2018/11/gravity_sort.jpg \"珠排序\")\n",
    "\n",
    "然而这个算法在真实实现时性能比较『拉夸』，最好情况下时间复杂度为O(n^2)，而且只能对正整数进行排序。"
   ]
  },
  {
   "cell_type": "code",
   "execution_count": 5,
   "metadata": {},
   "outputs": [
    {
     "name": "stdout",
     "output_type": "stream",
     "text": [
      "[5, 5, 10, 15, 30, 30, 100, 200]\n",
      "[10, 100, 200, 300, 330, 500]\n"
     ]
    }
   ],
   "source": [
    "def bead_sort(inputList):\n",
    "    if any([not isinstance(x, int) or x < 0 for x in inputList]):\n",
    "        raise AssertionError(\"All value should be int type, and >= 0\")\n",
    "    \n",
    "    length = len(inputList)\n",
    "    for upperIndex in range(length - 2, -1, -1):\n",
    "        for lowIndex in range(upperIndex, length-1):\n",
    "            upperValue, lowerValue = inputList[lowIndex], inputList[lowIndex+1]\n",
    "            if upperValue > lowerValue:\n",
    "                inputList[lowIndex] -= upperValue - lowerValue\n",
    "                inputList[lowIndex+1] += upperValue - lowerValue\n",
    "\n",
    "l = [5, 10, 30, 15, 200, 100, 30, 5]\n",
    "bead_sort(l)\n",
    "print(l) \n",
    "l= [300, 10, 330, 500, 200, 100]\n",
    "bead_sort(l)\n",
    "print(l) "
   ]
  },
  {
   "cell_type": "markdown",
   "metadata": {},
   "source": [
    "# 桶排序（Bucket Sort）\n",
    "\n",
    "桶排序（Bucket sort）或所谓的箱排序，是一个排序算法，工作的原理是将数组分到有限数量的桶里。每个桶再个别排序（有可能再使用别的排序算法或是以递归方式继续使用桶排序进行排序），最后依次把各个桶中的记录列出来记得到有序序列。桶排序是鸽巢排序的一种归纳结果。当要被排序的数组内的数值是均匀分配的时候，桶排序使用线性时间（Θ(n)）。但桶排序并不是比较排序，他不受到O(n log n)下限的影响。\n",
    "\n",
    "![图片](https://pic3.zhimg.com/v2-b29c1a8ee42595e7992b6d2eb1030f76_b.webp \"桶排序\")"
   ]
  },
  {
   "cell_type": "code",
   "execution_count": 1,
   "metadata": {},
   "outputs": [
    {
     "name": "stdout",
     "output_type": "stream",
     "text": [
      "[5, 5, 10, 15, 30, 30, 100, 200]\n",
      "[10, 100, 200, 300, 330, 500]\n"
     ]
    }
   ],
   "source": [
    "def bucket_sort(inputList):\n",
    "    if len(inputList) == 0:\n",
    "        return inputList\n",
    "    \n",
    "    minV, maxV = min(inputList), max(inputList)\n",
    "    bucketSize = int(maxV - minV) + 1\n",
    "    buckets = [[] for _ in range(bucketSize)]\n",
    "    for item in inputList:\n",
    "        buckets[(int(item-minV))//bucketSize].append(item)\n",
    "\n",
    "    return [v for bucket in buckets for v in sorted(bucket)]\n",
    "\n",
    "l = [5, 10, 30, 15, 200, 100, 30, 5]\n",
    "print(bucket_sort(l)) \n",
    "l= [300, 10, 330, 500, 200, 100]\n",
    "print(bucket_sort(l)) "
   ]
  },
  {
   "cell_type": "markdown",
   "metadata": {},
   "source": [
    "# 双调排序（bitonic sort）\n",
    "\n",
    "如果一个序列A=[x0, x1, x2, …, xn-1]，存在一个下标i（0≤i≤n-1），使得：\n",
    "\n",
    "x0≤ x1≤ …≤ xi, and xi≥ xi+1≥ …≥ xn-1\n",
    "\n",
    "那么我们称这个序列是Bitonic（双调的）。\n",
    "\n",
    "![图片](https://img-blog.csdn.net/20170730230257588?watermark/2/text/aHR0cDovL2Jsb2cuY3Nkbi5uZXQveGJpbndvcmxk/font/5a6L5L2T/fontsize/400/fill/I0JBQkFCMA==/dissolve/70/gravity/SouthEast \"双调排序\")"
   ]
  },
  {
   "cell_type": "code",
   "execution_count": 3,
   "metadata": {},
   "outputs": [
    {
     "name": "stdout",
     "output_type": "stream",
     "text": [
      "[10, 20]\n",
      "[10, 15, 20, 30]\n",
      "[3, 4, 8, 9, 10, 20, 99, 100]\n"
     ]
    }
   ],
   "source": [
    "def comp_and_swap(inputList, index1, index2, direction):\n",
    "    if (direction == 0 and inputList[index1] > inputList[index2]) or (direction == 1 and inputList[index1] < inputList[index2]):\n",
    "        inputList[index1], inputList[index2] = inputList[index2], inputList[index1]\n",
    "\n",
    "def bitonic_merge(inputList, low, length, direction):\n",
    "    if length > 1:\n",
    "        middle = int(length / 2)\n",
    "        for i in range(low, low+middle):\n",
    "            comp_and_swap(inputList, i, i+middle, direction)\n",
    "        bitonic_merge(inputList, low, middle, direction)\n",
    "        bitonic_merge(inputList, low+middle, middle, direction)\n",
    "\n",
    "\n",
    "def bitonic_sort(inputList, low, length, direction):\n",
    "    if length > 1:\n",
    "        middle = int(length / 2)\n",
    "        bitonic_sort(inputList, low, middle, 0)\n",
    "        bitonic_sort(inputList, low+middle, middle, 1)\n",
    "        bitonic_merge(inputList, low, length, direction)\n",
    "\n",
    "\n",
    "l = [20, 10]\n",
    "bitonic_sort(l, 0, len(l), 0)\n",
    "print(l)\n",
    "\n",
    "l = [20, 10, 15]\n",
    "bitonic_sort(l, 0, len(l), 0)\n",
    "print(l)\n",
    "\n",
    "l = [20, 10, 9, 8, 100, 4, 3, 99]\n",
    "bitonic_sort(l, 0, len(l), 0)\n",
    "print(l)"
   ]
  },
  {
   "cell_type": "markdown",
   "metadata": {},
   "source": [
    "# Bogo排序（bogo sorting)\n",
    "Bogo排序是一种基于生成和测试范例的高效无效的排序功能。 该函数连续生成其输入的排列，直到找到排序的排列。 它对于排序没有用，但可以用于教育目的，以将其与更有效的算法进行对比。\n",
    "\n",
    "其算法就是坑爹的将元素随机打乱，然后紧紧检查其是否符合排列顺序，若否，则继续进行随机打乱，继续检查结果，直到符合排列顺序"
   ]
  },
  {
   "cell_type": "code",
   "execution_count": 3,
   "metadata": {},
   "outputs": [
    {
     "name": "stdout",
     "output_type": "stream",
     "text": [
      "[10, 20]\n",
      "[10, 15, 20, 30]\n"
     ]
    }
   ],
   "source": [
    "import random\n",
    "\n",
    "def bogo_sort(inputList):\n",
    "    def is_sorted():\n",
    "        length = len(inputList)\n",
    "        if length < 2:\n",
    "            return True\n",
    "        \n",
    "        for index in range(length -1):\n",
    "            if inputList[index] > inputList[index+1]:\n",
    "                return False\n",
    "        return True\n",
    "\n",
    "    while not is_sorted():\n",
    "        random.shuffle(inputList)\n",
    "\n",
    "\n",
    "l = [20, 10]\n",
    "bogo_sort(l)\n",
    "print(l)\n",
    "\n",
    "l = [20, 10, 15, 30]\n",
    "bogo_sort(l)\n",
    "print(l)"
   ]
  },
  {
   "cell_type": "markdown",
   "metadata": {},
   "source": [
    "# 鸡尾酒排序（cocktail shaker sort）\n",
    "\n",
    "鸡尾酒排序是冒泡排序的轻微变形。不同的地方在于，鸡尾酒排序是从低到高然后从高到低来回排序，而冒泡排序则仅从低到高去比较序列里的每个元素。他可比冒泡排序的效率稍微好一点，原因是冒泡排序只从一个方向进行比对(由低到高)，每次循环只移动一个项目。\n",
    "\n",
    "以序列(2,3,4,5,1)为例，鸡尾酒排序只需要访问一次序列就可以完成排序，但如果使用冒泡排序则需要四次。但是在乱数序列状态下，鸡尾酒排序与冒泡排序的效率都很差劲，优点只有原理简单这一点。\n",
    "\n",
    "排序过程：\n",
    "\n",
    "1. 先对数组从左到右进行冒泡排序（升序），则最大的元素去到最右端\n",
    "2. 再对数组从右到左进行冒泡排序（降序），则最小的元素去到最左端\n",
    "3. 以此类推，依次改变冒泡的方向，并不断缩小未排序元素的范围，直到最后一个元素结束\n",
    "\n",
    "![图片](http://box.kancloud.cn/2015-07-26_55b458cfe0128.gif \"鸡尾酒排序\")"
   ]
  },
  {
   "cell_type": "code",
   "execution_count": 1,
   "metadata": {},
   "outputs": [
    {
     "name": "stdout",
     "output_type": "stream",
     "text": [
      "[10, 20]\n",
      "[10, 15, 20]\n",
      "[3, 4, 8, 9, 10, 20, 99, 100]\n"
     ]
    }
   ],
   "source": [
    "def cocktail_shaker_sort(inputList):\n",
    "    length = len(inputList)\n",
    "    for i in range(length//2):\n",
    "        swapped = False\n",
    "\n",
    "        for j in range(i, length - i - 1):\n",
    "            if inputList[j] > inputList[j+1]:\n",
    "                inputList[j], inputList[j+1] = inputList[j+1], inputList[j]\n",
    "                swapped = True\n",
    "\n",
    "        for k in range(length-i-1, i, -1):\n",
    "            if inputList[k] < inputList[k-1]:\n",
    "                inputList[k], inputList[k-1] = inputList[k-1], inputList[k]\n",
    "                swapped = True\n",
    "        \n",
    "        if not swapped:\n",
    "            break\n",
    "\n",
    "l = [20, 10]\n",
    "cocktail_shaker_sort(l)\n",
    "print(l)\n",
    "\n",
    "l = [20, 10, 15]\n",
    "cocktail_shaker_sort(l)\n",
    "print(l)\n",
    "\n",
    "l = [20, 10, 9, 8, 100, 4, 3, 99]\n",
    "cocktail_shaker_sort(l)\n",
    "print(l)"
   ]
  },
  {
   "cell_type": "markdown",
   "metadata": {},
   "source": [
    "# Counting Sort\n",
    "计数排序(Counting Sort)不是基于比较的排序算法，其核心在于将输入的数据值转化为键存储在额外开辟的数组空间中。 作为一种线性时间复杂度的排序，计数排序要求输入的数据必须是有确定范围的整数。\n",
    "\n",
    "找出待排序的数组中最大和最小的元素,计算出存储数据作为数组下标,存储数据出现频率的数组范围；\n",
    "通过(value - min),计算出数据对应的下标,存入频率数组,出现1次值为1,以后++；\n",
    "反向填充目标数组：便利频率数组,通过index反向计算出原始值(index + min),依次加入目标数组。\n",
    "\n",
    "![图](counting-sort.webp)"
   ]
  },
  {
   "cell_type": "code",
   "execution_count": 2,
   "metadata": {},
   "outputs": [
    {
     "name": "stdout",
     "output_type": "stream",
     "text": [
      "[3, 3, 10, 10, 20, 100, 100, 200]\n"
     ]
    }
   ],
   "source": [
    "def counting_sort(inputList):\n",
    "    if not inputList:\n",
    "        return []\n",
    "    \n",
    "    length = len(inputList)\n",
    "    max_v = max(inputList)\n",
    "    min_v = min(inputList)\n",
    "\n",
    "    storeList = [0] * (max_v - min_v + 1)\n",
    "\n",
    "    for item in inputList:\n",
    "        storeList[item - min_v] += 1\n",
    "\n",
    "    result = []\n",
    "    for index, count in enumerate(storeList):\n",
    "        if count > 0:\n",
    "            result.extend([min_v + index] * count)\n",
    "    \n",
    "    return result\n",
    "\n",
    "\n",
    "inputList = [10, 3, 20, 10, 100, 3, 200, 100]\n",
    "print(counting_sort(inputList))"
   ]
  }
 ],
 "metadata": {
  "interpreter": {
   "hash": "fcf1d46d271c46101d6967829d4a5f475342a2ce08e4944f989fbcdc9bb23690"
  },
  "kernelspec": {
   "display_name": "Python 3.9.7 64-bit",
   "language": "python",
   "name": "python3"
  },
  "language_info": {
   "codemirror_mode": {
    "name": "ipython",
    "version": 3
   },
   "file_extension": ".py",
   "mimetype": "text/x-python",
   "name": "python",
   "nbconvert_exporter": "python",
   "pygments_lexer": "ipython3",
   "version": "3.8.8"
  },
  "orig_nbformat": 4
 },
 "nbformat": 4,
 "nbformat_minor": 2
}
